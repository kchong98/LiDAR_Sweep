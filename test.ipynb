{
 "cells": [
  {
   "cell_type": "code",
   "execution_count": 72,
   "metadata": {
    "collapsed": true
   },
   "outputs": [],
   "source": [
    "from pandaset import DataSet\n",
    "import pickle\n",
    "import numpy as np\n",
    "import pandas as pd\n",
    "import os\n",
    "from sklearn.neighbors import NearestNeighbors"
   ]
  },
  {
   "cell_type": "code",
   "execution_count": 73,
   "outputs": [],
   "source": [
    "pfile = 'C:/Users/maste/4AI3/PandaSet/001/lidar/05.pkl'\n",
    "with open(pfile, 'rb') as fin:\n",
    "    data = pickle.load(fin)\n",
    "\n",
    "pfile = 'C:/Users/maste/4AI3/PandaSet/001/annotations/semseg/05.pkl'\n",
    "with open(pfile, 'rb') as fin:\n",
    "    semseg = pickle.load(fin)"
   ],
   "metadata": {
    "collapsed": false,
    "pycharm": {
     "name": "#%%\n"
    }
   }
  },
  {
   "cell_type": "markdown",
   "source": [
    "# Testing KNN algorithm"
   ],
   "metadata": {
    "collapsed": false,
    "pycharm": {
     "name": "#%% md\n"
    }
   }
  },
  {
   "cell_type": "code",
   "execution_count": 74,
   "outputs": [
    {
     "name": "stdout",
     "output_type": "stream",
     "text": [
      "       Index  Distance  class\n",
      "0        1.0  0.000000     42\n",
      "1       85.0  0.231097     42\n",
      "2      230.0  0.383519     42\n",
      "3   104640.0  0.399536     42\n",
      "4   105738.0  0.477910     42\n",
      "5   104041.0  0.487063     42\n",
      "6   103977.0  0.487103     42\n",
      "7   104587.0  0.496097     42\n",
      "8   105730.0  0.504505     42\n",
      "9      450.0  0.582175     42\n",
      "10     495.0  0.595521     42\n",
      "11  105099.0  0.682435     42\n",
      "12  105053.0  0.707467     42\n",
      "13  105724.0  0.709465     42\n",
      "14     904.0  0.767833     42\n",
      "15  105474.0  0.825149     42\n"
     ]
    }
   ],
   "source": [
    "knn = NearestNeighbors(n_neighbors=16, p=2)\n",
    "knn.fit(data[['x','y','z']])\n",
    "\n",
    "X = data[['x','y','z']].iloc[1]\n",
    "X = np.reshape(X.to_numpy(), (1,-1))\n",
    "\n",
    "\n",
    "close = knn.kneighbors(X, n_neighbors=16, return_distance=True)\n",
    "labels = semseg.iloc[close[1].reshape(-1,)]\n",
    "close = np.hstack((close[1].reshape(-1,1), close[0].reshape(-1,1)))\n",
    "close = pd.DataFrame(close, columns=['Index', 'Distance'])\n",
    "close['class'] = pd.DataFrame(labels.to_numpy())\n",
    "\n",
    "print(close)"
   ],
   "metadata": {
    "collapsed": false,
    "pycharm": {
     "name": "#%%\n"
    }
   }
  },
  {
   "cell_type": "code",
   "execution_count": 75,
   "outputs": [],
   "source": [
    "semsegs = []\n",
    "\n",
    "for i in range(80):\n",
    "    if i < 10:\n",
    "        shot = '0'+str(i)\n",
    "    else:\n",
    "        shot = str(i)\n",
    "    pfile = 'C:/Users/maste/4AI3/PandaSet/001/annotations/semseg/{}.pkl'.format(shot)\n",
    "    with open(pfile, 'rb') as fin:\n",
    "        semsegs.append(pickle.load(fin))"
   ],
   "metadata": {
    "collapsed": false,
    "pycharm": {
     "name": "#%%\n"
    }
   }
  },
  {
   "cell_type": "code",
   "execution_count": 76,
   "outputs": [
    {
     "data": {
      "text/plain": "'\\nfor segments in semsegs:\\n    print(segments.nunique())\\n'"
     },
     "execution_count": 76,
     "metadata": {},
     "output_type": "execute_result"
    }
   ],
   "source": [
    "# Checking unique classes in each snapshot\n",
    "\n",
    "\"\"\"\n",
    "for segments in semsegs:\n",
    "    print(segments.nunique())\n",
    "\"\"\""
   ],
   "metadata": {
    "collapsed": false,
    "pycharm": {
     "name": "#%%\n"
    }
   }
  },
  {
   "cell_type": "markdown",
   "source": [
    "# One Hot Encoder"
   ],
   "metadata": {
    "collapsed": false,
    "pycharm": {
     "name": "#%% md\n"
    }
   }
  },
  {
   "cell_type": "code",
   "execution_count": 77,
   "outputs": [],
   "source": [
    "class oneHot:\n",
    "    def __init__(self):\n",
    "        print('Created One Hot Encoder')\n",
    "\n",
    "    def fit(self, classes):\n",
    "        self.classes = classes\n",
    "\n",
    "    def transform(self, data):\n",
    "        encoded = np.zeros((len(data.index), self.classes))\n",
    "        row = 0\n",
    "        for point in data.iloc[:,0]:\n",
    "            encoded[row, int(point)-1] = 1\n",
    "            # print(point)\n",
    "            row += 1\n",
    "        return encoded"
   ],
   "metadata": {
    "collapsed": false,
    "pycharm": {
     "name": "#%%\n"
    }
   }
  },
  {
   "cell_type": "code",
   "execution_count": 78,
   "outputs": [
    {
     "name": "stdout",
     "output_type": "stream",
     "text": [
      "Created One Hot Encoder\n",
      "[0. 0. 0. 0. 0. 0. 0. 0. 0. 0. 0. 0. 0. 0. 0. 0. 0. 0. 0. 0. 0. 0. 0. 0.\n",
      " 0. 0. 0. 0. 0. 0. 0. 0. 0. 0. 0. 0. 0. 0. 0. 0. 0. 1.]\n",
      "class    42\n",
      "Name: 1, dtype: int64\n"
     ]
    }
   ],
   "source": [
    "encoder = oneHot()\n",
    "encoder.fit(42)\n",
    "encoded = encoder.transform(semseg)\n",
    "print(encoded[1])\n",
    "print(semseg.iloc[1])"
   ],
   "metadata": {
    "collapsed": false,
    "pycharm": {
     "name": "#%%\n"
    }
   }
  }
 ],
 "metadata": {
  "kernelspec": {
   "display_name": "Python 3",
   "language": "python",
   "name": "python3"
  },
  "language_info": {
   "codemirror_mode": {
    "name": "ipython",
    "version": 2
   },
   "file_extension": ".py",
   "mimetype": "text/x-python",
   "name": "python",
   "nbconvert_exporter": "python",
   "pygments_lexer": "ipython2",
   "version": "2.7.6"
  }
 },
 "nbformat": 4,
 "nbformat_minor": 0
}