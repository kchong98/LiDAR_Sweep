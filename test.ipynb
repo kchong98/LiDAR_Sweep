{
 "cells": [
  {
   "cell_type": "code",
   "execution_count": 64,
   "metadata": {
    "collapsed": true
   },
   "outputs": [],
   "source": [
    "from pandaset import DataSet\n",
    "import pickle\n",
    "import numpy as np\n",
    "import pandas as pd\n",
    "import os\n",
    "from sklearn.neighbors import NearestNeighbors"
   ]
  },
  {
   "cell_type": "code",
   "execution_count": 65,
   "outputs": [],
   "source": [
    "pfile = 'C:/Users/maste/4AI3/PandaSet/001/lidar/05.pkl'\n",
    "with open(pfile, 'rb') as fin:\n",
    "    data = pickle.load(fin)\n",
    "\n",
    "pfile = 'C:/Users/maste/4AI3/PandaSet/001/annotations/semseg/05.pkl'\n",
    "with open(pfile, 'rb') as fin:\n",
    "    semseg = pickle.load(fin)"
   ],
   "metadata": {
    "collapsed": false,
    "pycharm": {
     "name": "#%%\n"
    }
   }
  },
  {
   "cell_type": "markdown",
   "source": [
    "# Testing KNN algorithm"
   ],
   "metadata": {
    "collapsed": false,
    "pycharm": {
     "name": "#%% md\n"
    }
   }
  },
  {
   "cell_type": "code",
   "execution_count": 66,
   "outputs": [
    {
     "name": "stdout",
     "output_type": "stream",
     "text": [
      "       Index  Distance  class\n",
      "0        1.0  0.000000     42\n",
      "1       85.0  0.231097     42\n",
      "2      230.0  0.383519     42\n",
      "3   104640.0  0.399536     42\n",
      "4   105738.0  0.477910     42\n",
      "5   104041.0  0.487063     42\n",
      "6   103977.0  0.487103     42\n",
      "7   104587.0  0.496097     42\n",
      "8   105730.0  0.504505     42\n",
      "9      450.0  0.582175     42\n",
      "10     495.0  0.595521     42\n",
      "11  105099.0  0.682435     42\n",
      "12  105053.0  0.707467     42\n",
      "13  105724.0  0.709465     42\n",
      "14     904.0  0.767833     42\n",
      "15  105474.0  0.825149     42\n"
     ]
    }
   ],
   "source": [
    "knn = NearestNeighbors(n_neighbors=16)\n",
    "knn.fit(data[['x','y','z']])\n",
    "\n",
    "X = data[['x','y','z']].iloc[1]\n",
    "X = np.reshape(X.to_numpy(), (1,-1))\n",
    "\n",
    "\n",
    "close = knn.kneighbors(X, n_neighbors=16, return_distance=True)\n",
    "labels = semseg.iloc[close[1].reshape(-1,)]\n",
    "close = np.hstack((close[1].reshape(-1,1), close[0].reshape(-1,1)))\n",
    "close = pd.DataFrame(close, columns=['Index', 'Distance'])\n",
    "close['class'] = pd.DataFrame(labels.to_numpy())\n",
    "\n",
    "print(close)"
   ],
   "metadata": {
    "collapsed": false,
    "pycharm": {
     "name": "#%%\n"
    }
   }
  }
 ],
 "metadata": {
  "kernelspec": {
   "display_name": "Python 3",
   "language": "python",
   "name": "python3"
  },
  "language_info": {
   "codemirror_mode": {
    "name": "ipython",
    "version": 2
   },
   "file_extension": ".py",
   "mimetype": "text/x-python",
   "name": "python",
   "nbconvert_exporter": "python",
   "pygments_lexer": "ipython2",
   "version": "2.7.6"
  }
 },
 "nbformat": 4,
 "nbformat_minor": 0
}